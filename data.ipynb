{
 "cells": [
  {
   "attachments": {},
   "cell_type": "markdown",
   "metadata": {},
   "source": [
    "# WHO Ambient Air Quality Database (Update 2023)\n",
    "\n",
    "[link to source](https://www.who.int/publications/m/item/who-ambient-air-quality-database-(update-2023))\n",
    "\n",
    "## Schema\n",
    "\n",
    "Column name | Description\n",
    "--- | ---\n",
    "who_region | \"WHO region (1_Afr = African region, 2_Amr = Region of the Americas, 3_Sear = South-East Asian region, 4_Eur = European region, 5_Emr = Eastern Mediterranean region, 6_Wpr = Western Pacific region, 7_NonMS = non-member state) For more information:  https://www.who.int/about/who-we-are/regional-offices\"\n",
    "iso3 | ISO country code. See https://www.iso.org/iso-3166-country-codes.html for details. \n",
    "country_name | WHO Country Name\n",
    "city | Name of the city\n",
    "year | Year of the annual mean concentration\n",
    "version | \"Version of the database when the data was collected and published for the first time (Version 2016 V3; version 2018 V4; version 2022 V5; version 2023 V6)\"\n",
    "pm10_concentration | Annual mean concentration of particulate matter with diameter of 10 μm or less.\n",
    "pm25_concentration | Annual mean concentration of particulate matter with diameter of 2.5μm or less.\n",
    "no2_concentration | Annual mean concentration of nitrogne dioxide\n",
    "pm10_tempcov | Annual temporal coverage for PM10, on a 100 base (full year= 100; 1=1% of the year)\n",
    "pm25_tempcov | Annual temporal coverage for PM2.5, on a 100 base (full year= 100; 1=1% of the year)\n",
    "no2_tempcov | Annual temporal coverage for NO2, on a 100 base (full year= 100; 1=1% of the year)\n",
    "type_of_stations | Type as station as provided by the Member states, such as residential, background, etc.\n",
    "reference | Originator of the data\n",
    "who_ms | WHO member states (0 = no, 1 = yes)\n",
    "\n",
    "## Notes\n",
    "\n",
    "**Coverage:** If the temporal coverage for any of the measures used is not close to 100% then any classifier would be bias to particular seasons. For instance if the average PM10 was taken in the summer when it is particularly high then when comparing to an average taken over the whole year this would not be fair.\n",
    "\n",
    "**Year:** Should all years be considered or one particular year?"
   ]
  },
  {
   "cell_type": "code",
   "execution_count": 1,
   "metadata": {},
   "outputs": [],
   "source": [
    "import pandas as pd\n",
    "import matplotlib.pyplot as plt\n",
    "import seaborn as sb\n",
    "from scipy import stats\n",
    "import numpy as np"
   ]
  },
  {
   "cell_type": "code",
   "execution_count": 2,
   "metadata": {},
   "outputs": [],
   "source": [
    "df = pd.read_csv('who_air_quality_database_2023_V6.csv', na_values = ['NA'])"
   ]
  },
  {
   "cell_type": "code",
   "execution_count": 3,
   "metadata": {},
   "outputs": [
    {
     "data": {
      "text/html": [
       "<div>\n",
       "<style scoped>\n",
       "    .dataframe tbody tr th:only-of-type {\n",
       "        vertical-align: middle;\n",
       "    }\n",
       "\n",
       "    .dataframe tbody tr th {\n",
       "        vertical-align: top;\n",
       "    }\n",
       "\n",
       "    .dataframe thead th {\n",
       "        text-align: right;\n",
       "    }\n",
       "</style>\n",
       "<table border=\"1\" class=\"dataframe\">\n",
       "  <thead>\n",
       "    <tr style=\"text-align: right;\">\n",
       "      <th></th>\n",
       "      <th>who_region</th>\n",
       "      <th>iso3</th>\n",
       "      <th>country_name</th>\n",
       "      <th>city</th>\n",
       "      <th>year</th>\n",
       "      <th>version</th>\n",
       "      <th>pm10_concentration</th>\n",
       "      <th>pm25_concentration</th>\n",
       "      <th>no2_concentration</th>\n",
       "      <th>pm10_tempcov</th>\n",
       "      <th>pm25_tempcov</th>\n",
       "      <th>no2_tempcov</th>\n",
       "      <th>type_of_stations</th>\n",
       "      <th>reference</th>\n",
       "      <th>web_link</th>\n",
       "      <th>population</th>\n",
       "      <th>population_source</th>\n",
       "      <th>latitude</th>\n",
       "      <th>longitude</th>\n",
       "      <th>who_ms</th>\n",
       "    </tr>\n",
       "  </thead>\n",
       "  <tbody>\n",
       "    <tr>\n",
       "      <th>0</th>\n",
       "      <td>3_Sear</td>\n",
       "      <td>IND</td>\n",
       "      <td>India</td>\n",
       "      <td>Chennai</td>\n",
       "      <td>2018</td>\n",
       "      <td>version 2022</td>\n",
       "      <td>NaN</td>\n",
       "      <td>30.0</td>\n",
       "      <td>NaN</td>\n",
       "      <td>NaN</td>\n",
       "      <td>91.0</td>\n",
       "      <td>NaN</td>\n",
       "      <td>NaN</td>\n",
       "      <td>U.S. Department of State, United States Enviro...</td>\n",
       "      <td>https://www.airnow.gov/index.cfm?action=airnow...</td>\n",
       "      <td>9890427.0</td>\n",
       "      <td>NaN</td>\n",
       "      <td>13.087840</td>\n",
       "      <td>80.278470</td>\n",
       "      <td>1</td>\n",
       "    </tr>\n",
       "    <tr>\n",
       "      <th>1</th>\n",
       "      <td>3_Sear</td>\n",
       "      <td>IND</td>\n",
       "      <td>India</td>\n",
       "      <td>Solapur</td>\n",
       "      <td>2016</td>\n",
       "      <td>version 2022, version 2018</td>\n",
       "      <td>NaN</td>\n",
       "      <td>39.0</td>\n",
       "      <td>NaN</td>\n",
       "      <td>NaN</td>\n",
       "      <td>99.0</td>\n",
       "      <td>NaN</td>\n",
       "      <td>NaN</td>\n",
       "      <td>Central Pollution Control Board India, Environ...</td>\n",
       "      <td>NaN</td>\n",
       "      <td>985568.0</td>\n",
       "      <td>NaN</td>\n",
       "      <td>17.659919</td>\n",
       "      <td>75.906391</td>\n",
       "      <td>1</td>\n",
       "    </tr>\n",
       "    <tr>\n",
       "      <th>2</th>\n",
       "      <td>3_Sear</td>\n",
       "      <td>IND</td>\n",
       "      <td>India</td>\n",
       "      <td>Chennai</td>\n",
       "      <td>2019</td>\n",
       "      <td>version 2022</td>\n",
       "      <td>NaN</td>\n",
       "      <td>39.0</td>\n",
       "      <td>NaN</td>\n",
       "      <td>NaN</td>\n",
       "      <td>85.0</td>\n",
       "      <td>NaN</td>\n",
       "      <td>NaN</td>\n",
       "      <td>U.S. Department of State, United States Enviro...</td>\n",
       "      <td>[[[\"EPA AirNow DOS\",\"http://airnow.gov/index.c...</td>\n",
       "      <td>9890427.0</td>\n",
       "      <td>NaN</td>\n",
       "      <td>13.087840</td>\n",
       "      <td>80.278470</td>\n",
       "      <td>1</td>\n",
       "    </tr>\n",
       "  </tbody>\n",
       "</table>\n",
       "</div>"
      ],
      "text/plain": [
       "  who_region iso3 country_name     city  year                     version  \\\n",
       "0     3_Sear  IND        India  Chennai  2018                version 2022   \n",
       "1     3_Sear  IND        India  Solapur  2016  version 2022, version 2018   \n",
       "2     3_Sear  IND        India  Chennai  2019                version 2022   \n",
       "\n",
       "   pm10_concentration  pm25_concentration  no2_concentration  pm10_tempcov  \\\n",
       "0                 NaN                30.0                NaN           NaN   \n",
       "1                 NaN                39.0                NaN           NaN   \n",
       "2                 NaN                39.0                NaN           NaN   \n",
       "\n",
       "   pm25_tempcov  no2_tempcov type_of_stations  \\\n",
       "0          91.0          NaN              NaN   \n",
       "1          99.0          NaN              NaN   \n",
       "2          85.0          NaN              NaN   \n",
       "\n",
       "                                           reference  \\\n",
       "0  U.S. Department of State, United States Enviro...   \n",
       "1  Central Pollution Control Board India, Environ...   \n",
       "2  U.S. Department of State, United States Enviro...   \n",
       "\n",
       "                                            web_link  population  \\\n",
       "0  https://www.airnow.gov/index.cfm?action=airnow...   9890427.0   \n",
       "1                                                NaN    985568.0   \n",
       "2  [[[\"EPA AirNow DOS\",\"http://airnow.gov/index.c...   9890427.0   \n",
       "\n",
       "   population_source   latitude  longitude  who_ms  \n",
       "0                NaN  13.087840  80.278470       1  \n",
       "1                NaN  17.659919  75.906391       1  \n",
       "2                NaN  13.087840  80.278470       1  "
      ]
     },
     "execution_count": 3,
     "metadata": {},
     "output_type": "execute_result"
    }
   ],
   "source": [
    "df.head(3)"
   ]
  },
  {
   "cell_type": "code",
   "execution_count": 4,
   "metadata": {},
   "outputs": [
    {
     "data": {
      "text/plain": [
       "array(['version 2022', 'version 2022, version 2018', 'version 2023',\n",
       "       'version 2018', 'version 2016, version 2018', 'version 2016', nan,\n",
       "       'version 2022, version 2016, version 2018',\n",
       "       'version 2022, version 2016'], dtype=object)"
      ]
     },
     "execution_count": 4,
     "metadata": {},
     "output_type": "execute_result"
    }
   ],
   "source": [
    "# Check if version 2023 is used in collaboration with other versions.\n",
    "df['version'].unique()"
   ]
  },
  {
   "cell_type": "code",
   "execution_count": 5,
   "metadata": {},
   "outputs": [
    {
     "data": {
      "text/plain": [
       "<AxesSubplot:xlabel='year'>"
      ]
     },
     "execution_count": 5,
     "metadata": {},
     "output_type": "execute_result"
    },
    {
     "data": {
      "image/png": "[encoded data removed]",
      "text/plain": [
       "<Figure size 432x288 with 1 Axes>"
      ]
     },
     "metadata": {
      "needs_background": "light"
     },
     "output_type": "display_data"
    }
   ],
   "source": [
    "df[(df.version == 'version 2023')].groupby(['year']).size().plot()"
   ]
  },
  {
   "cell_type": "code",
   "execution_count": 6,
   "metadata": {},
   "outputs": [],
   "source": [
    "# Use the latest version and take the year with the most datapoints.\n",
    "df = df[(df.version == 'version 2023') & (df.year == 2020)]"
   ]
  },
  {
   "cell_type": "code",
   "execution_count": 7,
   "metadata": {},
   "outputs": [
    {
     "data": {
      "text/plain": [
       "who_region            0.000000\n",
       "iso3                  0.000000\n",
       "country_name          0.000000\n",
       "city                  0.001744\n",
       "year                  0.000000\n",
       "version               0.000000\n",
       "pm10_concentration    0.301271\n",
       "pm25_concentration    0.431846\n",
       "no2_concentration     0.265886\n",
       "pm10_tempcov          0.440817\n",
       "pm25_tempcov          0.626713\n",
       "no2_tempcov           0.394966\n",
       "type_of_stations      0.237977\n",
       "reference             0.089210\n",
       "web_link              0.242213\n",
       "population            0.731622\n",
       "population_source     1.000000\n",
       "latitude              0.028158\n",
       "longitude             0.028158\n",
       "who_ms                0.000000\n",
       "dtype: float64"
      ]
     },
     "execution_count": 7,
     "metadata": {},
     "output_type": "execute_result"
    }
   ],
   "source": [
    "# Percentage of nulls.\n",
    "df.isnull().sum() / len(df)"
   ]
  },
  {
   "cell_type": "code",
   "execution_count": 8,
   "metadata": {},
   "outputs": [
    {
     "data": {
      "text/plain": [
       "<AxesSubplot:>"
      ]
     },
     "execution_count": 8,
     "metadata": {},
     "output_type": "execute_result"
    },
    {
     "data": {
      "image/png": "[encoded data removed]",
      "text/plain": [
       "<Figure size 432x288 with 1 Axes>"
      ]
     },
     "metadata": {
      "needs_background": "light"
     },
     "output_type": "display_data"
    }
   ],
   "source": [
    "# Distribution of particulate coverage over the year. A low coverage would result in bias to seasonality.\n",
    "df[['pm10_tempcov', 'pm25_tempcov', 'no2_tempcov']].boxplot()"
   ]
  },
  {
   "cell_type": "code",
   "execution_count": 9,
   "metadata": {},
   "outputs": [
    {
     "data": {
      "text/plain": [
       "type_of_stations\n",
       "1 Urban                                         1077\n",
       "1 Rural                                          667\n",
       "1 Suburban                                       525\n",
       "2 Urban                                          244\n",
       "3 Urban                                           74\n",
       "                                                ... \n",
       "29 Urban                                           1\n",
       "1 Suburban, 15 Urban                               1\n",
       "3 Residential And Commercial Area, 1 Unknown       1\n",
       "1 Suburban, 10 Urban                               1\n",
       "2 Suburban, 10 Urban                               1\n",
       "Length: 111, dtype: int64"
      ]
     },
     "execution_count": 9,
     "metadata": {},
     "output_type": "execute_result"
    }
   ],
   "source": [
    "df.groupby(['type_of_stations']).size().sort_values(ascending=False)"
   ]
  },
  {
   "cell_type": "code",
   "execution_count": 10,
   "metadata": {},
   "outputs": [
    {
     "name": "stderr",
     "output_type": "stream",
     "text": [
      "C:\\Users\\willf\\AppData\\Local\\Temp\\ipykernel_1140\\3105934454.py:5: FutureWarning: The default value of regex will change from True to False in a future version.\n",
      "  df['type_of_stations_split'] = df['type_of_stations_split'].str.replace('[\\d\\s]+', '')\n"
     ]
    }
   ],
   "source": [
    "# points classified with multiple stations are exploded vertically\n",
    "# if particulate measured are classified with two stations, there will be two rows after exploding\n",
    "df['type_of_stations_split'] = df['type_of_stations'].str.split(',', expand=False)\n",
    "df = df.explode('type_of_stations_split')\n",
    "df['type_of_stations_split'] = df['type_of_stations_split'].str.replace('[\\d\\s]+', '')"
   ]
  },
  {
   "cell_type": "code",
   "execution_count": 11,
   "metadata": {},
   "outputs": [
    {
     "data": {
      "text/plain": [
       "type_of_stations_split\n",
       "Urban                                        1665\n",
       "Suburban                                      760\n",
       "Rural                                         753\n",
       "Background                                     49\n",
       "Traffic                                        36\n",
       "Unknown                                        30\n",
       "ResidentialAndCommercialArea                   14\n",
       "Industrial                                     10\n",
       "UrbanTraffic                                    3\n",
       "FondUrbain                                      1\n",
       "UrbanTraffic/ResidentialAndCommercialArea       1\n",
       "dtype: int64"
      ]
     },
     "execution_count": 11,
     "metadata": {},
     "output_type": "execute_result"
    }
   ],
   "source": [
    "df.groupby(['type_of_stations_split']).size().sort_values(ascending=False)"
   ]
  },
  {
   "cell_type": "code",
   "execution_count": 12,
   "metadata": {},
   "outputs": [
    {
     "data": {
      "image/png": "[encoded data removed]",
      "text/plain": [
       "<Figure size 432x288 with 9 Axes>"
      ]
     },
     "metadata": {
      "needs_background": "light"
     },
     "output_type": "display_data"
    }
   ],
   "source": [
    "# Pairwise plot\n",
    "pd.plotting.scatter_matrix(df[['pm10_concentration', 'pm25_concentration', 'no2_concentration']], alpha=0.2)\n",
    "plt.show()"
   ]
  },
  {
   "cell_type": "code",
   "execution_count": 13,
   "metadata": {},
   "outputs": [
    {
     "data": {
      "image/png": "[encoded data removed]",
      "text/plain": [
       "<Figure size 432x288 with 2 Axes>"
      ]
     },
     "metadata": {
      "needs_background": "light"
     },
     "output_type": "display_data"
    }
   ],
   "source": [
    "# PM10 and PM2.5 are closely correlated but PM2.5 has less datapoints, therefore, PM10 could just be used\n",
    "sb.heatmap(df[['pm10_concentration', 'pm25_concentration', 'no2_concentration']].corr(), cmap=\"YlGnBu\", annot=True)\n",
    "plt.show()"
   ]
  },
  {
   "cell_type": "code",
   "execution_count": 14,
   "metadata": {},
   "outputs": [],
   "source": [
    "df = df[\n",
    "    # Most used labels\n",
    "    (df['type_of_stations_split'].isin(['Urban', 'Suburban', 'Rural'])) & \n",
    "    # Where over 90% coverage over the year is recorded\n",
    "    (df['pm10_tempcov'] > 0.9) &\n",
    "    (df['no2_tempcov'] > 0.9) &\n",
    "    # Where the particulates are not null\n",
    "    (df['pm10_concentration'].notnull()) &\n",
    "    (df['no2_concentration'].notnull()) &\n",
    "    (df['type_of_stations_split'].notnull())\n",
    "][['pm10_concentration', 'no2_concentration', 'type_of_stations_split']]"
   ]
  },
  {
   "cell_type": "code",
   "execution_count": 15,
   "metadata": {},
   "outputs": [
    {
     "data": {
      "text/plain": [
       "<AxesSubplot:>"
      ]
     },
     "execution_count": 15,
     "metadata": {},
     "output_type": "execute_result"
    },
    {
     "data": {
      "image/png": "[encoded data removed]",
      "text/plain": [
       "<Figure size 432x288 with 1 Axes>"
      ]
     },
     "metadata": {
      "needs_background": "light"
     },
     "output_type": "display_data"
    }
   ],
   "source": [
    "# Discrepancy in frequency distribution between the three labels (not uniform)\n",
    "df['type_of_stations_split'].value_counts().plot(kind='bar')"
   ]
  },
  {
   "cell_type": "code",
   "execution_count": 16,
   "metadata": {},
   "outputs": [
    {
     "data": {
      "image/png": "[encoded data removed]",
      "text/plain": [
       "<Figure size 432x864 with 3 Axes>"
      ]
     },
     "metadata": {
      "needs_background": "light"
     },
     "output_type": "display_data"
    }
   ],
   "source": [
    "df.plot.hist(bins=10, alpha=0.5, column=['no2_concentration', 'pm10_concentration'], by='type_of_stations_split', figsize=(6, 12), histtype='step', fill=True)\n",
    "plt.show()"
   ]
  },
  {
   "attachments": {},
   "cell_type": "markdown",
   "metadata": {},
   "source": [
    "\n",
    "Use Kolmogorov Smirnov between the two frequency histogram distributions\n",
    "\n",
    "If the distributions are different then the model should be able to easily infer the labels"
   ]
  },
  {
   "cell_type": "code",
   "execution_count": 17,
   "metadata": {},
   "outputs": [],
   "source": [
    "data = df[df['type_of_stations_split'] == 'Urban']['pm10_concentration']\n",
    "urban_statistic, _, _ = stats.binned_statistic(data, np.arange(len(data)), statistic ='count', bins = 20)"
   ]
  },
  {
   "cell_type": "code",
   "execution_count": 18,
   "metadata": {},
   "outputs": [],
   "source": [
    "data = df[df['type_of_stations_split'] == 'Suburban']['pm10_concentration']\n",
    "suburban_statistic, _, _ = stats.binned_statistic(data, np.arange(len(data)), statistic ='count', bins = 20)"
   ]
  },
  {
   "cell_type": "code",
   "execution_count": 19,
   "metadata": {},
   "outputs": [],
   "source": [
    "data = df[df['type_of_stations_split'] == 'Rural']['pm10_concentration']\n",
    "rural_statistic, _, _ = stats.binned_statistic(data, np.arange(len(data)), statistic ='count', bins = 20)"
   ]
  },
  {
   "cell_type": "code",
   "execution_count": 20,
   "metadata": {},
   "outputs": [
    {
     "data": {
      "text/plain": [
       "KstestResult(statistic=0.0, pvalue=1.0)"
      ]
     },
     "execution_count": 20,
     "metadata": {},
     "output_type": "execute_result"
    }
   ],
   "source": [
    "stats.kstest(urban_statistic, urban_statistic)"
   ]
  },
  {
   "cell_type": "code",
   "execution_count": 21,
   "metadata": {},
   "outputs": [
    {
     "data": {
      "text/plain": [
       "KstestResult(statistic=0.25, pvalue=0.571336004933722)"
      ]
     },
     "execution_count": 21,
     "metadata": {},
     "output_type": "execute_result"
    }
   ],
   "source": [
    "stats.kstest(urban_statistic, rural_statistic)"
   ]
  },
  {
   "cell_type": "code",
   "execution_count": 22,
   "metadata": {},
   "outputs": [
    {
     "data": {
      "text/plain": [
       "KstestResult(statistic=0.15, pvalue=0.9831368772656193)"
      ]
     },
     "execution_count": 22,
     "metadata": {},
     "output_type": "execute_result"
    }
   ],
   "source": [
    "# Urban and Suburban are very similar for PM10\n",
    "stats.kstest(urban_statistic, suburban_statistic)"
   ]
  },
  {
   "cell_type": "code",
   "execution_count": 23,
   "metadata": {},
   "outputs": [],
   "source": [
    "data = df[df['type_of_stations_split'] == 'Urban']['no2_concentration']\n",
    "urban_statistic, _, _ = stats.binned_statistic(data, np.arange(len(data)), statistic ='count', bins = 20)"
   ]
  },
  {
   "cell_type": "code",
   "execution_count": 24,
   "metadata": {},
   "outputs": [],
   "source": [
    "data = df[df['type_of_stations_split'] == 'Rural']['no2_concentration']\n",
    "rural_statistic, _, _ = stats.binned_statistic(data, np.arange(len(data)), statistic ='count', bins = 20)"
   ]
  },
  {
   "cell_type": "code",
   "execution_count": 25,
   "metadata": {},
   "outputs": [
    {
     "data": {
      "text/plain": [
       "KstestResult(statistic=0.25, pvalue=0.571336004933722)"
      ]
     },
     "execution_count": 25,
     "metadata": {},
     "output_type": "execute_result"
    }
   ],
   "source": [
    "stats.kstest(urban_statistic, rural_statistic)"
   ]
  },
  {
   "cell_type": "code",
   "execution_count": 26,
   "metadata": {},
   "outputs": [
    {
     "data": {
      "text/plain": [
       "KstestResult(statistic=0.2, pvalue=0.8319696107963263)"
      ]
     },
     "execution_count": 26,
     "metadata": {},
     "output_type": "execute_result"
    }
   ],
   "source": [
    "# Urban and Suburban are very similar for NO2\n",
    "stats.kstest(urban_statistic, suburban_statistic)"
   ]
  },
  {
   "cell_type": "code",
   "execution_count": 27,
   "metadata": {},
   "outputs": [],
   "source": [
    "# Remove suburban from the data as its too similar to urban\n",
    "# A model will struggle to infer any difference\n",
    "df = df[df['type_of_stations_split'].isin(['Urban', 'Rural'])][['pm10_concentration', 'no2_concentration', 'type_of_stations_split']]"
   ]
  },
  {
   "attachments": {},
   "cell_type": "markdown",
   "metadata": {},
   "source": [
    "# Model\n",
    "\n",
    "The model needs to handle these data issues:\n",
    "\n",
    "- Small dataset\n",
    "- Label inbalance (more urban points than rural)\n",
    "\n",
    "Could use SMOTE to balance the data?"
   ]
  },
  {
   "cell_type": "code",
   "execution_count": 28,
   "metadata": {},
   "outputs": [],
   "source": [
    "from sklearn.model_selection import train_test_split\n",
    "from sklearn.tree import DecisionTreeClassifier\n",
    "from sklearn.svm import SVC\n",
    "\n",
    "from imblearn.over_sampling import SMOTE"
   ]
  },
  {
   "cell_type": "code",
   "execution_count": 29,
   "metadata": {},
   "outputs": [
    {
     "data": {
      "text/plain": [
       "0.7232913072329131"
      ]
     },
     "execution_count": 29,
     "metadata": {},
     "output_type": "execute_result"
    }
   ],
   "source": [
    "# Percentage of urban data points\n",
    "len(df[df['type_of_stations_split'] == 'Urban']) / len(df)"
   ]
  },
  {
   "cell_type": "code",
   "execution_count": 30,
   "metadata": {},
   "outputs": [],
   "source": [
    "X = df[['pm10_concentration', 'no2_concentration']]\n",
    "y = df['type_of_stations_split']\n",
    "X_train, X_test, y_train, y_test = train_test_split(X, y, test_size=0.2, random_state=42)"
   ]
  },
  {
   "cell_type": "code",
   "execution_count": 31,
   "metadata": {},
   "outputs": [
    {
     "data": {
      "text/plain": [
       "0.8311258278145696"
      ]
     },
     "execution_count": 31,
     "metadata": {},
     "output_type": "execute_result"
    }
   ],
   "source": [
    "rfc = DecisionTreeClassifier().fit(X_train, y_train)\n",
    "rfc.score(X_test, y_test)"
   ]
  },
  {
   "cell_type": "code",
   "execution_count": 32,
   "metadata": {},
   "outputs": [
    {
     "data": {
      "text/plain": [
       "0.8708609271523179"
      ]
     },
     "execution_count": 32,
     "metadata": {},
     "output_type": "execute_result"
    }
   ],
   "source": [
    "svc = SVC().fit(X_train, y_train)\n",
    "svc.score(X_test, y_test)"
   ]
  },
  {
   "cell_type": "code",
   "execution_count": 33,
   "metadata": {},
   "outputs": [],
   "source": [
    "# Resolve dataset imbalance with SMOTE\n",
    "oversample = SMOTE()\n",
    "X, y = oversample.fit_resample(X, y)\n",
    "X_train, X_test, y_train, y_test = train_test_split(X, y, test_size=0.2, random_state=42)"
   ]
  },
  {
   "cell_type": "code",
   "execution_count": 34,
   "metadata": {},
   "outputs": [
    {
     "data": {
      "text/plain": [
       "0.823394495412844"
      ]
     },
     "execution_count": 34,
     "metadata": {},
     "output_type": "execute_result"
    }
   ],
   "source": [
    "rfc = DecisionTreeClassifier().fit(X_train, y_train)\n",
    "rfc.score(X_test, y_test)"
   ]
  },
  {
   "cell_type": "code",
   "execution_count": 35,
   "metadata": {},
   "outputs": [
    {
     "data": {
      "text/plain": [
       "0.7935779816513762"
      ]
     },
     "execution_count": 35,
     "metadata": {},
     "output_type": "execute_result"
    }
   ],
   "source": [
    "svc = SVC().fit(X_train, y_train)\n",
    "svc.score(X_test, y_test)"
   ]
  }
 ],
 "metadata": {
  "kernelspec": {
   "display_name": "Python 3",
   "language": "python",
   "name": "python3"
  },
  "language_info": {
   "codemirror_mode": {
    "name": "ipython",
    "version": 3
   },
   "file_extension": ".py",
   "mimetype": "text/x-python",
   "name": "python",
   "nbconvert_exporter": "python",
   "pygments_lexer": "ipython3",
   "version": "3.9.10"
  },
  "orig_nbformat": 4
 },
 "nbformat": 4,
 "nbformat_minor": 2
}
